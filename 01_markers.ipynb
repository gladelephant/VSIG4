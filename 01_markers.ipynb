tam_gene = {
    "FOLR2+": ["APOE", "FOLR2", "MRC1"],
    "TREM2+": ["APOE", "TREM2", "MSR1"],
    "MDSC-like": ["MARCO", "TREM1"],
    "C1QC+": ["C1QC", "C1QB", "C1QA"],
    "SPP1+": ["SPP1", "FN1", "VEGFA"]
}

myeloid_markers = {
    "DC": ['CLEC10A','CD226','FCER1A','CADM1','CLEC9A','XCR1','CD1C','BTLA','DPP4','IL3RA','IDO1'],
    "Macrophage": ["CD68","VSIG4","ADGRE1","IRF5","ITGAM","ITGB2","ARG1","MRC1","C1QB","C1QC","CD14"],
    "MDSC": ["ADGRE1","CD1A","CXCR4","IDO1"],
    "Monocyte": ["CD14","VCAN","FCGR3B","S100A8","PECAM1","CEBPA","FCGR1A","FCN1","S100A12"]
}

myeloid_markers = {
    "DC": [
        "CLEC10A","CD226","LILRA2","SIRPA","BTLA","DPP4","FCER1A","CADM1","XCR1",
        "CLEC9A","CD209","ITGAM","ITGAX","ITGAE","MRC1","CLEC4A","S100A8","THBD",
        "CD1A","CD1C"
    ],
    "Langerhans": [
        "CD207"
    ],
    "Macrophage": [
        "CD68","VSIG4","ADGRE1","IRF5","ITGAM","ITGB2","ARG1","MRC1","C1QB","C1QC","CD14"
    ],
    "MDP": [
        "IL3RA","CSF1R","CSF2RA","CX3CR1","FLT3","KIT","AXL","SIGLEC1","CD22","CD33","SIGLEC6","CD34"
    ],
    "Monocyte": [
        "CD14","VCAN","FCGR3B","S100A8","PECAM1","CEBPA","FCGR1A","FCN1","S100A12"
    ]
}

myeloid_markers2 = {
    "DC": ['CLEC10A','CD226','FCER1A','CADM1','CLEC9A','XCR1','CD1C','IL3RA','CLEC4A','LAMP3','CCR7','IDO1'],
    "Macrophage": ["CD68","CD14","CD163","VSIG4","MARCO","TREM2","SPP1","ITGAM","ITGB2","ARG1","MRC1","C1QB","C1QC"],
    "Neutrophil": ["CD14","VCAN","S100A9","S100A8","CSF3R"]
}


